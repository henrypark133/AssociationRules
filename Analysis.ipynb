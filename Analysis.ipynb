{
 "cells": [
  {
   "cell_type": "code",
   "execution_count": 2,
   "metadata": {
    "collapsed": true
   },
   "outputs": [],
   "source": [
    "import numpy as np\n",
    "import pandas as pd"
   ]
  },
  {
   "cell_type": "code",
   "execution_count": 3,
   "metadata": {
    "collapsed": true
   },
   "outputs": [],
   "source": [
    "df = pd.read_table('../../transaction',delimiter=',',header=None)"
   ]
  },
  {
   "cell_type": "code",
   "execution_count": 4,
   "metadata": {
    "collapsed": true
   },
   "outputs": [],
   "source": [
    "df.columns = ['sku', 'store', 'register', 'trannum', 'date']"
   ]
  },
  {
   "cell_type": "code",
   "execution_count": 5,
   "metadata": {
    "collapsed": true
   },
   "outputs": [],
   "source": [
    "df_analysis = df[df['date'] < '2004-09-01']"
   ]
  },
  {
   "cell_type": "code",
   "execution_count": 17,
   "metadata": {},
   "outputs": [
    {
     "data": {
      "text/html": [
       "<div>\n",
       "<style>\n",
       "    .dataframe thead tr:only-child th {\n",
       "        text-align: right;\n",
       "    }\n",
       "\n",
       "    .dataframe thead th {\n",
       "        text-align: left;\n",
       "    }\n",
       "\n",
       "    .dataframe tbody tr th {\n",
       "        vertical-align: top;\n",
       "    }\n",
       "</style>\n",
       "<table border=\"1\" class=\"dataframe\">\n",
       "  <thead>\n",
       "    <tr style=\"text-align: right;\">\n",
       "      <th></th>\n",
       "      <th>sku</th>\n",
       "      <th>store</th>\n",
       "      <th>register</th>\n",
       "      <th>trannum</th>\n",
       "      <th>date</th>\n",
       "    </tr>\n",
       "  </thead>\n",
       "  <tbody>\n",
       "    <tr>\n",
       "      <th>33</th>\n",
       "      <td>7348931</td>\n",
       "      <td>3204</td>\n",
       "      <td>20</td>\n",
       "      <td>300</td>\n",
       "      <td>2004-08-15</td>\n",
       "    </tr>\n",
       "    <tr>\n",
       "      <th>49</th>\n",
       "      <td>7348931</td>\n",
       "      <td>3204</td>\n",
       "      <td>180</td>\n",
       "      <td>2100</td>\n",
       "      <td>2004-08-14</td>\n",
       "    </tr>\n",
       "    <tr>\n",
       "      <th>50</th>\n",
       "      <td>7348931</td>\n",
       "      <td>3204</td>\n",
       "      <td>180</td>\n",
       "      <td>2100</td>\n",
       "      <td>2004-08-14</td>\n",
       "    </tr>\n",
       "    <tr>\n",
       "      <th>51</th>\n",
       "      <td>7348931</td>\n",
       "      <td>3204</td>\n",
       "      <td>180</td>\n",
       "      <td>2100</td>\n",
       "      <td>2004-08-14</td>\n",
       "    </tr>\n",
       "    <tr>\n",
       "      <th>79</th>\n",
       "      <td>7348931</td>\n",
       "      <td>3204</td>\n",
       "      <td>180</td>\n",
       "      <td>8900</td>\n",
       "      <td>2004-08-25</td>\n",
       "    </tr>\n",
       "  </tbody>\n",
       "</table>\n",
       "</div>"
      ],
      "text/plain": [
       "        sku  store  register  trannum       date\n",
       "33  7348931   3204        20      300 2004-08-15\n",
       "49  7348931   3204       180     2100 2004-08-14\n",
       "50  7348931   3204       180     2100 2004-08-14\n",
       "51  7348931   3204       180     2100 2004-08-14\n",
       "79  7348931   3204       180     8900 2004-08-25"
      ]
     },
     "execution_count": 17,
     "metadata": {},
     "output_type": "execute_result"
    }
   ],
   "source": [
    "df_analysis.head(5)"
   ]
  },
  {
   "cell_type": "code",
   "execution_count": 20,
   "metadata": {},
   "outputs": [],
   "source": [
    "df_analysis = df_analysis.reset_index()"
   ]
  },
  {
   "cell_type": "code",
   "execution_count": 21,
   "metadata": {},
   "outputs": [],
   "source": [
    "df_analysis['date'] = pd.to_datetime(df_analysis['date'])"
   ]
  },
  {
   "cell_type": "code",
   "execution_count": 22,
   "metadata": {},
   "outputs": [],
   "source": [
    "min_date = df_analysis['date'].min()"
   ]
  },
  {
   "cell_type": "code",
   "execution_count": 23,
   "metadata": {},
   "outputs": [],
   "source": [
    "df_analysis['date'] = (df_analysis['date'] - min_date).dt.days"
   ]
  },
  {
   "cell_type": "code",
   "execution_count": 25,
   "metadata": {},
   "outputs": [],
   "source": [
    "df_analysis['trans_id'] = df_analysis[['store','register','trannum','date']].sum(axis=1)"
   ]
  },
  {
   "cell_type": "code",
   "execution_count": 26,
   "metadata": {},
   "outputs": [
    {
     "data": {
      "text/html": [
       "<div>\n",
       "<style>\n",
       "    .dataframe thead tr:only-child th {\n",
       "        text-align: right;\n",
       "    }\n",
       "\n",
       "    .dataframe thead th {\n",
       "        text-align: left;\n",
       "    }\n",
       "\n",
       "    .dataframe tbody tr th {\n",
       "        vertical-align: top;\n",
       "    }\n",
       "</style>\n",
       "<table border=\"1\" class=\"dataframe\">\n",
       "  <thead>\n",
       "    <tr style=\"text-align: right;\">\n",
       "      <th></th>\n",
       "      <th>index</th>\n",
       "      <th>sku</th>\n",
       "      <th>store</th>\n",
       "      <th>register</th>\n",
       "      <th>trannum</th>\n",
       "      <th>date</th>\n",
       "      <th>trans_id</th>\n",
       "    </tr>\n",
       "  </thead>\n",
       "  <tbody>\n",
       "    <tr>\n",
       "      <th>0</th>\n",
       "      <td>33</td>\n",
       "      <td>7348931</td>\n",
       "      <td>3204</td>\n",
       "      <td>20</td>\n",
       "      <td>300</td>\n",
       "      <td>14</td>\n",
       "      <td>3538</td>\n",
       "    </tr>\n",
       "    <tr>\n",
       "      <th>1</th>\n",
       "      <td>49</td>\n",
       "      <td>7348931</td>\n",
       "      <td>3204</td>\n",
       "      <td>180</td>\n",
       "      <td>2100</td>\n",
       "      <td>13</td>\n",
       "      <td>5497</td>\n",
       "    </tr>\n",
       "    <tr>\n",
       "      <th>2</th>\n",
       "      <td>50</td>\n",
       "      <td>7348931</td>\n",
       "      <td>3204</td>\n",
       "      <td>180</td>\n",
       "      <td>2100</td>\n",
       "      <td>13</td>\n",
       "      <td>5497</td>\n",
       "    </tr>\n",
       "    <tr>\n",
       "      <th>3</th>\n",
       "      <td>51</td>\n",
       "      <td>7348931</td>\n",
       "      <td>3204</td>\n",
       "      <td>180</td>\n",
       "      <td>2100</td>\n",
       "      <td>13</td>\n",
       "      <td>5497</td>\n",
       "    </tr>\n",
       "    <tr>\n",
       "      <th>4</th>\n",
       "      <td>79</td>\n",
       "      <td>7348931</td>\n",
       "      <td>3204</td>\n",
       "      <td>180</td>\n",
       "      <td>8900</td>\n",
       "      <td>24</td>\n",
       "      <td>12308</td>\n",
       "    </tr>\n",
       "  </tbody>\n",
       "</table>\n",
       "</div>"
      ],
      "text/plain": [
       "   index      sku  store  register  trannum  date  trans_id\n",
       "0     33  7348931   3204        20      300    14      3538\n",
       "1     49  7348931   3204       180     2100    13      5497\n",
       "2     50  7348931   3204       180     2100    13      5497\n",
       "3     51  7348931   3204       180     2100    13      5497\n",
       "4     79  7348931   3204       180     8900    24     12308"
      ]
     },
     "execution_count": 26,
     "metadata": {},
     "output_type": "execute_result"
    }
   ],
   "source": [
    "df_analysis.head(5)"
   ]
  },
  {
   "cell_type": "code",
   "execution_count": 27,
   "metadata": {
    "collapsed": true
   },
   "outputs": [],
   "source": [
    "baskets = df_analysis.groupby('trans_id')['sku'].apply(list)"
   ]
  },
  {
   "cell_type": "code",
   "execution_count": 34,
   "metadata": {},
   "outputs": [
    {
     "data": {
      "text/plain": [
       "trans_id\n",
       "211    [5116098]\n",
       "234    [9202949]\n",
       "244    [9708505]\n",
       "245    [1211541]\n",
       "248    [9124803]\n",
       "Name: sku, dtype: object"
      ]
     },
     "execution_count": 34,
     "metadata": {},
     "output_type": "execute_result"
    }
   ],
   "source": [
    "baskets.head(5)"
   ]
  },
  {
   "cell_type": "code",
   "execution_count": 35,
   "metadata": {
    "collapsed": true
   },
   "outputs": [],
   "source": [
    "baskets = baskets.values.tolist()"
   ]
  },
  {
   "cell_type": "code",
   "execution_count": 31,
   "metadata": {},
   "outputs": [],
   "source": [
    "import fpgrowth"
   ]
  },
  {
   "cell_type": "code",
   "execution_count": 41,
   "metadata": {},
   "outputs": [],
   "source": [
    "itemsets = dict(fpgrowth.frequent_itemsets(baskets, 800))"
   ]
  },
  {
   "cell_type": "code",
   "execution_count": 42,
   "metadata": {},
   "outputs": [],
   "source": [
    "results = list(fpgrowth.association_rules(itemsets, .4))"
   ]
  },
  {
   "cell_type": "code",
   "execution_count": 43,
   "metadata": {
    "collapsed": true
   },
   "outputs": [],
   "source": [
    "results_pd = pd.DataFrame(results, columns = [\"L\", \"R\", \"Sup\", \"Confidence\"])"
   ]
  },
  {
   "cell_type": "code",
   "execution_count": 44,
   "metadata": {
    "collapsed": true
   },
   "outputs": [],
   "source": [
    "results_pd.to_csv('results_800_0.4.csv', header = True)"
   ]
  },
  {
   "cell_type": "code",
   "execution_count": 45,
   "metadata": {},
   "outputs": [
    {
     "data": {
      "text/html": [
       "<div>\n",
       "<style>\n",
       "    .dataframe thead tr:only-child th {\n",
       "        text-align: right;\n",
       "    }\n",
       "\n",
       "    .dataframe thead th {\n",
       "        text-align: left;\n",
       "    }\n",
       "\n",
       "    .dataframe tbody tr th {\n",
       "        vertical-align: top;\n",
       "    }\n",
       "</style>\n",
       "<table border=\"1\" class=\"dataframe\">\n",
       "  <thead>\n",
       "    <tr style=\"text-align: right;\">\n",
       "      <th></th>\n",
       "      <th>L</th>\n",
       "      <th>R</th>\n",
       "      <th>Sup</th>\n",
       "      <th>Confidence</th>\n",
       "    </tr>\n",
       "  </thead>\n",
       "  <tbody>\n",
       "    <tr>\n",
       "      <th>0</th>\n",
       "      <td>(6318344, 4108011, 2698353, 3524026, 2783996, ...</td>\n",
       "      <td>(3978011)</td>\n",
       "      <td>947</td>\n",
       "      <td>0.808711</td>\n",
       "    </tr>\n",
       "    <tr>\n",
       "      <th>1</th>\n",
       "      <td>(6318344, 4108011, 3524026, 2783996, 5528349)</td>\n",
       "      <td>(2698353, 3978011)</td>\n",
       "      <td>947</td>\n",
       "      <td>0.513557</td>\n",
       "    </tr>\n",
       "    <tr>\n",
       "      <th>2</th>\n",
       "      <td>(6318344, 4108011, 2698353, 2783996, 5528349)</td>\n",
       "      <td>(3524026, 3978011)</td>\n",
       "      <td>947</td>\n",
       "      <td>0.666432</td>\n",
       "    </tr>\n",
       "    <tr>\n",
       "      <th>3</th>\n",
       "      <td>(6318344, 4108011, 2783996, 5528349)</td>\n",
       "      <td>(2698353, 3524026, 3978011)</td>\n",
       "      <td>947</td>\n",
       "      <td>0.413899</td>\n",
       "    </tr>\n",
       "    <tr>\n",
       "      <th>4</th>\n",
       "      <td>(6318344, 2698353, 4108011, 5528349)</td>\n",
       "      <td>(3524026, 3978011, 2783996)</td>\n",
       "      <td>947</td>\n",
       "      <td>0.469277</td>\n",
       "    </tr>\n",
       "  </tbody>\n",
       "</table>\n",
       "</div>"
      ],
      "text/plain": [
       "                                                   L  \\\n",
       "0  (6318344, 4108011, 2698353, 3524026, 2783996, ...   \n",
       "1      (6318344, 4108011, 3524026, 2783996, 5528349)   \n",
       "2      (6318344, 4108011, 2698353, 2783996, 5528349)   \n",
       "3               (6318344, 4108011, 2783996, 5528349)   \n",
       "4               (6318344, 2698353, 4108011, 5528349)   \n",
       "\n",
       "                             R  Sup  Confidence  \n",
       "0                    (3978011)  947    0.808711  \n",
       "1           (2698353, 3978011)  947    0.513557  \n",
       "2           (3524026, 3978011)  947    0.666432  \n",
       "3  (2698353, 3524026, 3978011)  947    0.413899  \n",
       "4  (3524026, 3978011, 2783996)  947    0.469277  "
      ]
     },
     "execution_count": 45,
     "metadata": {},
     "output_type": "execute_result"
    }
   ],
   "source": [
    "results_pd.head(5)"
   ]
  },
  {
   "cell_type": "code",
   "execution_count": 52,
   "metadata": {},
   "outputs": [],
   "source": [
    "results_pd['Sup'] = (results_pd['Sup'] - results_pd['Sup'].mean())/results_pd['Sup'].std()"
   ]
  },
  {
   "cell_type": "code",
   "execution_count": 54,
   "metadata": {},
   "outputs": [],
   "source": [
    "results_pd['Confidence'] = (results_pd['Confidence'] - results_pd['Confidence'].mean())/results_pd['Confidence'].std()"
   ]
  },
  {
   "cell_type": "code",
   "execution_count": 56,
   "metadata": {},
   "outputs": [],
   "source": [
    "results_pd['Analysis'] = results_pd['Sup'] + results_pd['Confidence']"
   ]
  },
  {
   "cell_type": "code",
   "execution_count": 59,
   "metadata": {},
   "outputs": [],
   "source": [
    "results_pd = results_pd.sort_values('Analysis', ascending=False)"
   ]
  },
  {
   "cell_type": "code",
   "execution_count": 87,
   "metadata": {},
   "outputs": [],
   "source": [
    "temp = list(results_pd.head(8000)['L'])"
   ]
  },
  {
   "cell_type": "code",
   "execution_count": 88,
   "metadata": {},
   "outputs": [],
   "source": [
    "temp = [list(x) for x in temp]"
   ]
  },
  {
   "cell_type": "code",
   "execution_count": 89,
   "metadata": {
    "collapsed": true
   },
   "outputs": [],
   "source": [
    "temp = [item for sublist in temp for item in sublist]"
   ]
  },
  {
   "cell_type": "code",
   "execution_count": 90,
   "metadata": {},
   "outputs": [],
   "source": [
    "temp = list(set(temp))"
   ]
  },
  {
   "cell_type": "code",
   "execution_count": 91,
   "metadata": {},
   "outputs": [
    {
     "data": {
      "text/plain": [
       "100"
      ]
     },
     "execution_count": 91,
     "metadata": {},
     "output_type": "execute_result"
    }
   ],
   "source": [
    "len(temp)"
   ]
  },
  {
   "cell_type": "code",
   "execution_count": 92,
   "metadata": {},
   "outputs": [
    {
     "data": {
      "text/plain": [
       "[3582465,\n",
       " 3844099,\n",
       " 3013129,\n",
       " 3968011,\n",
       " 264715,\n",
       " 9594893,\n",
       " 4928011,\n",
       " 9297426,\n",
       " 6328344,\n",
       " 8718362,\n",
       " 173088,\n",
       " 4296738,\n",
       " 3864099,\n",
       " 3988011,\n",
       " 1310252,\n",
       " 3346996,\n",
       " 5509179,\n",
       " 3053129,\n",
       " 4008011,\n",
       " 803921,\n",
       " 4498011,\n",
       " 2072671,\n",
       " 7808101,\n",
       " 9526376,\n",
       " 7351914,\n",
       " 2698353,\n",
       " 4072567,\n",
       " 7382655,\n",
       " 3559555,\n",
       " 3161221,\n",
       " 1658506,\n",
       " 8618636,\n",
       " 3898011,\n",
       " 4218011,\n",
       " 3690654,\n",
       " 776350,\n",
       " 4008113,\n",
       " 2726578,\n",
       " 3868338,\n",
       " 5778109,\n",
       " 726718,\n",
       " 4976322,\n",
       " 39633,\n",
       " 9357022,\n",
       " 6420710,\n",
       " 9073382,\n",
       " 3611367,\n",
       " 4108011,\n",
       " 2288366,\n",
       " 6618353,\n",
       " 4112626,\n",
       " 6126322,\n",
       " 2783996,\n",
       " 5079809,\n",
       " 3631365,\n",
       " 6318344,\n",
       " 7313673,\n",
       " 3854099,\n",
       " 7967000,\n",
       " 3978011,\n",
       " 5528349,\n",
       " 7064350,\n",
       " 5036322,\n",
       " 3874099,\n",
       " 3998011,\n",
       " 8791356,\n",
       " 9402188,\n",
       " 348498,\n",
       " 3894099,\n",
       " 4440924,\n",
       " 1832285,\n",
       " 2688353,\n",
       " 9667426,\n",
       " 3968356,\n",
       " 4062567,\n",
       " 7261032,\n",
       " 3589483,\n",
       " 4138348,\n",
       " 2708353,\n",
       " 4208011,\n",
       " 5108107,\n",
       " 2716578,\n",
       " 3908011,\n",
       " 8798636,\n",
       " 9288109,\n",
       " 2366897,\n",
       " 9987000,\n",
       " 3524026,\n",
       " 2258366,\n",
       " 5957568,\n",
       " 29633,\n",
       " 2386897,\n",
       " 2571221,\n",
       " 9708505,\n",
       " 4992993,\n",
       " 3949538,\n",
       " 5978084,\n",
       " 9277426,\n",
       " 2784759,\n",
       " 6458364]"
      ]
     },
     "execution_count": 92,
     "metadata": {},
     "output_type": "execute_result"
    }
   ],
   "source": [
    "temp"
   ]
  },
  {
   "cell_type": "code",
   "execution_count": null,
   "metadata": {
    "collapsed": true
   },
   "outputs": [],
   "source": []
  }
 ],
 "metadata": {
  "kernelspec": {
   "display_name": "Python 3",
   "language": "python",
   "name": "python3"
  }
 },
 "nbformat": 4,
 "nbformat_minor": 2
}
